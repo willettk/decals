{
 "cells": [
  {
   "cell_type": "code",
   "execution_count": 1,
   "metadata": {
    "collapsed": true
   },
   "outputs": [],
   "source": [
    "%matplotlib inline"
   ]
  },
  {
   "cell_type": "code",
   "execution_count": 2,
   "metadata": {
    "collapsed": true
   },
   "outputs": [],
   "source": [
    "import matplotlib.pyplot as plt"
   ]
  },
  {
   "cell_type": "code",
   "execution_count": 3,
   "metadata": {
    "collapsed": true
   },
   "outputs": [],
   "source": [
    "import pandas as pd\n",
    "import numpy as np"
   ]
  },
  {
   "cell_type": "code",
   "execution_count": 4,
   "metadata": {
    "collapsed": true
   },
   "outputs": [],
   "source": [
    "from IPython.core.interactiveshell import InteractiveShell\n",
    "InteractiveShell.ast_node_interactivity = \"all\""
   ]
  },
  {
   "cell_type": "code",
   "execution_count": 5,
   "metadata": {},
   "outputs": [
    {
     "data": {
      "text/html": [
       "<div>\n",
       "<style>\n",
       "    .dataframe thead tr:only-child th {\n",
       "        text-align: right;\n",
       "    }\n",
       "\n",
       "    .dataframe thead th {\n",
       "        text-align: left;\n",
       "    }\n",
       "\n",
       "    .dataframe tbody tr th {\n",
       "        vertical-align: top;\n",
       "    }\n",
       "</style>\n",
       "<table border=\"1\" class=\"dataframe\">\n",
       "  <thead>\n",
       "    <tr style=\"text-align: right;\">\n",
       "      <th></th>\n",
       "      <th>id</th>\n",
       "      <th>subject_id</th>\n",
       "      <th>user</th>\n",
       "      <th>created_at</th>\n",
       "      <th>lang</th>\n",
       "      <th>user_agent</th>\n",
       "      <th>decals-0</th>\n",
       "      <th>decals-1</th>\n",
       "      <th>decals-2</th>\n",
       "      <th>decals-3</th>\n",
       "      <th>decals-4</th>\n",
       "      <th>decals-5</th>\n",
       "      <th>decals-6</th>\n",
       "      <th>decals-7</th>\n",
       "      <th>decals-8</th>\n",
       "      <th>decals-9</th>\n",
       "      <th>decals-10</th>\n",
       "      <th>decals-11</th>\n",
       "    </tr>\n",
       "  </thead>\n",
       "  <tbody>\n",
       "    <tr>\n",
       "      <th>0</th>\n",
       "      <td>55e8b5061766270dbc005058</td>\n",
       "      <td>55a7d7a37a726119cd0006a0</td>\n",
       "      <td>KWillett</td>\n",
       "      <td>2015-09-03 21:00:54 UTC</td>\n",
       "      <td>en</td>\n",
       "      <td>unknown</td>\n",
       "      <td>a-1</td>\n",
       "      <td>a-0</td>\n",
       "      <td>NaN</td>\n",
       "      <td>NaN</td>\n",
       "      <td>NaN</td>\n",
       "      <td>NaN</td>\n",
       "      <td>NaN</td>\n",
       "      <td>NaN</td>\n",
       "      <td>NaN</td>\n",
       "      <td>NaN</td>\n",
       "      <td>NaN</td>\n",
       "      <td>NaN</td>\n",
       "    </tr>\n",
       "    <tr>\n",
       "      <th>1</th>\n",
       "      <td>55e8b5151766270fb100516a</td>\n",
       "      <td>55a7d7a27a726119cd000582</td>\n",
       "      <td>KWillett</td>\n",
       "      <td>2015-09-03 21:01:09 UTC</td>\n",
       "      <td>en</td>\n",
       "      <td>unknown</td>\n",
       "      <td>a-1</td>\n",
       "      <td>a-0</td>\n",
       "      <td>NaN</td>\n",
       "      <td>NaN</td>\n",
       "      <td>NaN</td>\n",
       "      <td>NaN</td>\n",
       "      <td>NaN</td>\n",
       "      <td>NaN</td>\n",
       "      <td>NaN</td>\n",
       "      <td>NaN</td>\n",
       "      <td>NaN</td>\n",
       "      <td>NaN</td>\n",
       "    </tr>\n",
       "    <tr>\n",
       "      <th>2</th>\n",
       "      <td>55e8b69117662710f8004e04</td>\n",
       "      <td>55a7d7a37a726119cd0007a1</td>\n",
       "      <td>KWillett</td>\n",
       "      <td>2015-09-03 21:07:29 UTC</td>\n",
       "      <td>en</td>\n",
       "      <td>unknown</td>\n",
       "      <td>a-1</td>\n",
       "      <td>a-1</td>\n",
       "      <td>a-0</td>\n",
       "      <td>a-0</td>\n",
       "      <td>a-2</td>\n",
       "      <td>a-1</td>\n",
       "      <td>a-2</td>\n",
       "      <td>NaN</td>\n",
       "      <td>NaN</td>\n",
       "      <td>a-1</td>\n",
       "      <td>a-0</td>\n",
       "      <td>a-0</td>\n",
       "    </tr>\n",
       "    <tr>\n",
       "      <th>3</th>\n",
       "      <td>55e8b6b417662710f8004e0d</td>\n",
       "      <td>55a7d7a37a726119cd0005e3</td>\n",
       "      <td>KWillett</td>\n",
       "      <td>2015-09-03 21:08:05 UTC</td>\n",
       "      <td>en</td>\n",
       "      <td>unknown</td>\n",
       "      <td>a-1</td>\n",
       "      <td>a-1</td>\n",
       "      <td>a-0</td>\n",
       "      <td>a-0</td>\n",
       "      <td>a-1</td>\n",
       "      <td>a-2</td>\n",
       "      <td>a-1</td>\n",
       "      <td>NaN</td>\n",
       "      <td>NaN</td>\n",
       "      <td>a-3</td>\n",
       "      <td>a-0</td>\n",
       "      <td>a-0</td>\n",
       "    </tr>\n",
       "    <tr>\n",
       "      <th>4</th>\n",
       "      <td>55e8b86e176627129b005008</td>\n",
       "      <td>55a7d7a27a726119cd00036c</td>\n",
       "      <td>KWillett</td>\n",
       "      <td>2015-09-03 21:15:26 UTC</td>\n",
       "      <td>en</td>\n",
       "      <td>unknown</td>\n",
       "      <td>a-0</td>\n",
       "      <td>NaN</td>\n",
       "      <td>NaN</td>\n",
       "      <td>NaN</td>\n",
       "      <td>NaN</td>\n",
       "      <td>NaN</td>\n",
       "      <td>NaN</td>\n",
       "      <td>NaN</td>\n",
       "      <td>a-0</td>\n",
       "      <td>a-3</td>\n",
       "      <td>a-0</td>\n",
       "      <td>a-1</td>\n",
       "    </tr>\n",
       "  </tbody>\n",
       "</table>\n",
       "</div>"
      ],
      "text/plain": [
       "                         id                subject_id      user  \\\n",
       "0  55e8b5061766270dbc005058  55a7d7a37a726119cd0006a0  KWillett   \n",
       "1  55e8b5151766270fb100516a  55a7d7a27a726119cd000582  KWillett   \n",
       "2  55e8b69117662710f8004e04  55a7d7a37a726119cd0007a1  KWillett   \n",
       "3  55e8b6b417662710f8004e0d  55a7d7a37a726119cd0005e3  KWillett   \n",
       "4  55e8b86e176627129b005008  55a7d7a27a726119cd00036c  KWillett   \n",
       "\n",
       "                created_at lang user_agent decals-0 decals-1 decals-2  \\\n",
       "0  2015-09-03 21:00:54 UTC   en    unknown      a-1      a-0      NaN   \n",
       "1  2015-09-03 21:01:09 UTC   en    unknown      a-1      a-0      NaN   \n",
       "2  2015-09-03 21:07:29 UTC   en    unknown      a-1      a-1      a-0   \n",
       "3  2015-09-03 21:08:05 UTC   en    unknown      a-1      a-1      a-0   \n",
       "4  2015-09-03 21:15:26 UTC   en    unknown      a-0      NaN      NaN   \n",
       "\n",
       "  decals-3 decals-4 decals-5 decals-6 decals-7 decals-8 decals-9 decals-10  \\\n",
       "0      NaN      NaN      NaN      NaN      NaN      NaN      NaN       NaN   \n",
       "1      NaN      NaN      NaN      NaN      NaN      NaN      NaN       NaN   \n",
       "2      a-0      a-2      a-1      a-2      NaN      NaN      a-1       a-0   \n",
       "3      a-0      a-1      a-2      a-1      NaN      NaN      a-3       a-0   \n",
       "4      NaN      NaN      NaN      NaN      NaN      a-0      a-3       a-0   \n",
       "\n",
       "  decals-11  \n",
       "0       NaN  \n",
       "1       NaN  \n",
       "2       a-0  \n",
       "3       a-0  \n",
       "4       a-1  "
      ]
     },
     "execution_count": 5,
     "metadata": {},
     "output_type": "execute_result"
    }
   ],
   "source": [
    "classifications_loc = '/data/galaxy_zoo/weekly_dumps/2017-10-22_galaxy_zoo_decals_classifications.csv'\n",
    "df = pd.read_csv(classifications_loc)\n",
    "df.head()"
   ]
  },
  {
   "cell_type": "code",
   "execution_count": 14,
   "metadata": {},
   "outputs": [
    {
     "data": {
      "text/plain": [
       "a-1    221135\n",
       "a-2     68316\n",
       "a-0     54088\n",
       "Name: decals-4, dtype: int64"
      ]
     },
     "execution_count": 14,
     "metadata": {},
     "output_type": "execute_result"
    },
    {
     "name": "stderr",
     "output_type": "stream",
     "text": [
      "/data/anaconda3/lib/python3.6/site-packages/ipykernel_launcher.py:11: SettingWithCopyWarning: \n",
      "A value is trying to be set on a copy of a slice from a DataFrame.\n",
      "Try using .loc[row_indexer,col_indexer] = value instead\n",
      "\n",
      "See the caveats in the documentation: http://pandas.pydata.org/pandas-docs/stable/indexing.html#indexing-view-versus-copy\n",
      "  # This is added back by InteractiveShellApp.init_path()\n"
     ]
    }
   ],
   "source": [
    "bar_answers = df['decals-4']\n",
    "bar_answers.value_counts()\n",
    "bar_df = df[['subject_id', 'decals-4']]\n",
    "mapping = {\n",
    "    'a-0': 'no_bulge',\n",
    "    'a-1': 'obvious',\n",
    "    'a-2': 'dominant',\n",
    "    'NaN': np.nan,\n",
    "    'nan': np.nan\n",
    "}\n",
    "bar_df['bar_response'] = bar_df['decals-4'].apply(lambda x: mapping[str(x)])\n",
    "bar_df = bar_df.dropna(subset=['bar_response'])\n",
    "del bar_df['decals-4']"
   ]
  },
  {
   "cell_type": "code",
   "execution_count": 15,
   "metadata": {},
   "outputs": [
    {
     "data": {
      "text/html": [
       "<div>\n",
       "<style>\n",
       "    .dataframe thead tr:only-child th {\n",
       "        text-align: right;\n",
       "    }\n",
       "\n",
       "    .dataframe thead th {\n",
       "        text-align: left;\n",
       "    }\n",
       "\n",
       "    .dataframe tbody tr th {\n",
       "        vertical-align: top;\n",
       "    }\n",
       "</style>\n",
       "<table border=\"1\" class=\"dataframe\">\n",
       "  <thead>\n",
       "    <tr style=\"text-align: right;\">\n",
       "      <th></th>\n",
       "      <th>subject_id</th>\n",
       "      <th>bar_response</th>\n",
       "    </tr>\n",
       "  </thead>\n",
       "  <tbody>\n",
       "    <tr>\n",
       "      <th>384056</th>\n",
       "      <td>55a7d7ad7a726119cd0060c2</td>\n",
       "      <td>dominant</td>\n",
       "    </tr>\n",
       "    <tr>\n",
       "      <th>1567670</th>\n",
       "      <td>55a7d7af7a726119cd00764a</td>\n",
       "      <td>obvious</td>\n",
       "    </tr>\n",
       "    <tr>\n",
       "      <th>1132877</th>\n",
       "      <td>55a7d7a77a726119cd002ec5</td>\n",
       "      <td>obvious</td>\n",
       "    </tr>\n",
       "    <tr>\n",
       "      <th>1050457</th>\n",
       "      <td>55a7d7a27a726119cd0004bb</td>\n",
       "      <td>dominant</td>\n",
       "    </tr>\n",
       "    <tr>\n",
       "      <th>1626295</th>\n",
       "      <td>55a7d7af7a726119cd0071d7</td>\n",
       "      <td>no_bulge</td>\n",
       "    </tr>\n",
       "    <tr>\n",
       "      <th>1317721</th>\n",
       "      <td>55a7d7a27a726119cd0004da</td>\n",
       "      <td>obvious</td>\n",
       "    </tr>\n",
       "    <tr>\n",
       "      <th>592761</th>\n",
       "      <td>55a7d7b47a726119cd009e6b</td>\n",
       "      <td>no_bulge</td>\n",
       "    </tr>\n",
       "    <tr>\n",
       "      <th>163330</th>\n",
       "      <td>55a7d7b07a726119cd007bb7</td>\n",
       "      <td>obvious</td>\n",
       "    </tr>\n",
       "    <tr>\n",
       "      <th>796096</th>\n",
       "      <td>55a7d7b17a726119cd0081b0</td>\n",
       "      <td>obvious</td>\n",
       "    </tr>\n",
       "    <tr>\n",
       "      <th>1199104</th>\n",
       "      <td>55a7d7a37a726119cd00066c</td>\n",
       "      <td>dominant</td>\n",
       "    </tr>\n",
       "  </tbody>\n",
       "</table>\n",
       "</div>"
      ],
      "text/plain": [
       "                       subject_id bar_response\n",
       "384056   55a7d7ad7a726119cd0060c2     dominant\n",
       "1567670  55a7d7af7a726119cd00764a      obvious\n",
       "1132877  55a7d7a77a726119cd002ec5      obvious\n",
       "1050457  55a7d7a27a726119cd0004bb     dominant\n",
       "1626295  55a7d7af7a726119cd0071d7     no_bulge\n",
       "1317721  55a7d7a27a726119cd0004da      obvious\n",
       "592761   55a7d7b47a726119cd009e6b     no_bulge\n",
       "163330   55a7d7b07a726119cd007bb7      obvious\n",
       "796096   55a7d7b17a726119cd0081b0      obvious\n",
       "1199104  55a7d7a37a726119cd00066c     dominant"
      ]
     },
     "execution_count": 15,
     "metadata": {},
     "output_type": "execute_result"
    }
   ],
   "source": [
    "bar_df.sample(10)"
   ]
  },
  {
   "cell_type": "code",
   "execution_count": 16,
   "metadata": {},
   "outputs": [
    {
     "data": {
      "text/html": [
       "<div>\n",
       "<style>\n",
       "    .dataframe thead tr:only-child th {\n",
       "        text-align: right;\n",
       "    }\n",
       "\n",
       "    .dataframe thead th {\n",
       "        text-align: left;\n",
       "    }\n",
       "\n",
       "    .dataframe tbody tr th {\n",
       "        vertical-align: top;\n",
       "    }\n",
       "</style>\n",
       "<table border=\"1\" class=\"dataframe\">\n",
       "  <thead>\n",
       "    <tr>\n",
       "      <th></th>\n",
       "      <th>subject_id</th>\n",
       "      <th colspan=\"3\" halign=\"left\">bar_response</th>\n",
       "    </tr>\n",
       "    <tr>\n",
       "      <th></th>\n",
       "      <th></th>\n",
       "      <th>count_if_no_bulge</th>\n",
       "      <th>count_if_obvious</th>\n",
       "      <th>count_if_dominant</th>\n",
       "    </tr>\n",
       "  </thead>\n",
       "  <tbody>\n",
       "    <tr>\n",
       "      <th>0</th>\n",
       "      <td>55a7d7a27a726119cd00000b</td>\n",
       "      <td>0</td>\n",
       "      <td>12</td>\n",
       "      <td>1</td>\n",
       "    </tr>\n",
       "    <tr>\n",
       "      <th>1</th>\n",
       "      <td>55a7d7a27a726119cd00000c</td>\n",
       "      <td>0</td>\n",
       "      <td>1</td>\n",
       "      <td>0</td>\n",
       "    </tr>\n",
       "    <tr>\n",
       "      <th>2</th>\n",
       "      <td>55a7d7a27a726119cd00000d</td>\n",
       "      <td>0</td>\n",
       "      <td>1</td>\n",
       "      <td>0</td>\n",
       "    </tr>\n",
       "    <tr>\n",
       "      <th>3</th>\n",
       "      <td>55a7d7a27a726119cd00000e</td>\n",
       "      <td>4</td>\n",
       "      <td>11</td>\n",
       "      <td>0</td>\n",
       "    </tr>\n",
       "    <tr>\n",
       "      <th>4</th>\n",
       "      <td>55a7d7a27a726119cd00000f</td>\n",
       "      <td>1</td>\n",
       "      <td>4</td>\n",
       "      <td>1</td>\n",
       "    </tr>\n",
       "  </tbody>\n",
       "</table>\n",
       "</div>"
      ],
      "text/plain": [
       "                 subject_id      bar_response                   \\\n",
       "                            count_if_no_bulge count_if_obvious   \n",
       "0  55a7d7a27a726119cd00000b                 0               12   \n",
       "1  55a7d7a27a726119cd00000c                 0                1   \n",
       "2  55a7d7a27a726119cd00000d                 0                1   \n",
       "3  55a7d7a27a726119cd00000e                 4               11   \n",
       "4  55a7d7a27a726119cd00000f                 1                4   \n",
       "\n",
       "                     \n",
       "  count_if_dominant  \n",
       "0                 1  \n",
       "1                 0  \n",
       "2                 0  \n",
       "3                 0  \n",
       "4                 1  "
      ]
     },
     "metadata": {},
     "output_type": "display_data"
    }
   ],
   "source": [
    "def count_responses(series):\n",
    "    counts = {\n",
    "        'no_bulge': 0,\n",
    "        'obvious': 0,\n",
    "        'dominant': 0\n",
    "    }\n",
    "    for value in list(series):\n",
    "        print(value)\n",
    "        counts[value] = counts[value] + 1\n",
    "        print(counts[value])\n",
    "        raise Exception\n",
    "    return counts\n",
    "\n",
    "def count_if_no_bulge(series):\n",
    "    return len(series[series == 'no_bulge'])\n",
    "def count_if_obvious(series):\n",
    "    return len(series[series == 'obvious'])\n",
    "def count_if_dominant(series):\n",
    "    return len(series[series == 'dominant'])\n",
    "\n",
    "response_df = bar_df.groupby('subject_id').agg([count_if_no_bulge, count_if_obvious, count_if_dominant]).reset_index()\n",
    "display(response_df.head())"
   ]
  },
  {
   "cell_type": "code",
   "execution_count": 17,
   "metadata": {
    "collapsed": true
   },
   "outputs": [],
   "source": [
    "response_df = response_df['bar_response']"
   ]
  },
  {
   "cell_type": "code",
   "execution_count": 18,
   "metadata": {},
   "outputs": [
    {
     "data": {
      "text/plain": [
       "<matplotlib.axes._subplots.AxesSubplot at 0x10d14c668>"
      ]
     },
     "execution_count": 18,
     "metadata": {},
     "output_type": "execute_result"
    },
    {
     "data": {
      "image/png": "[encoded data removed]",
      "text/plain": [
       "<matplotlib.figure.Figure at 0x10b187f98>"
      ]
     },
     "metadata": {},
     "output_type": "display_data"
    }
   ],
   "source": [
    "response_df['total_responses'] = response_df['count_if_no_bulge'] + response_df['count_if_obvious'] + response_df['count_if_dominant']\n",
    "response_df['total_responses'].hist(bins=50)"
   ]
  },
  {
   "cell_type": "code",
   "execution_count": 19,
   "metadata": {
    "collapsed": true
   },
   "outputs": [],
   "source": [
    "response_df['no_bulge_frac'] = response_df['count_if_no_bulge'] / response_df['total_responses']\n",
    "response_df['obvious_frac'] = response_df['count_if_obvious'] / response_df['total_responses']\n",
    "response_df['dominant_frac'] = response_df['count_if_dominant'] / response_df['total_responses']"
   ]
  },
  {
   "cell_type": "code",
   "execution_count": 20,
   "metadata": {
    "collapsed": true
   },
   "outputs": [],
   "source": [
    "responses = response_df[response_df['total_responses'] > 10]"
   ]
  },
  {
   "cell_type": "code",
   "execution_count": 21,
   "metadata": {},
   "outputs": [
    {
     "data": {
      "text/plain": [
       "<matplotlib.axes._subplots.AxesSubplot at 0x10d145860>"
      ]
     },
     "execution_count": 21,
     "metadata": {},
     "output_type": "execute_result"
    },
    {
     "data": {
      "text/plain": [
       "<matplotlib.text.Text at 0x10b187fd0>"
      ]
     },
     "execution_count": 21,
     "metadata": {},
     "output_type": "execute_result"
    },
    {
     "data": {
      "text/plain": [
       "<matplotlib.axes._subplots.AxesSubplot at 0x10c8a7780>"
      ]
     },
     "execution_count": 21,
     "metadata": {},
     "output_type": "execute_result"
    },
    {
     "data": {
      "text/plain": [
       "<matplotlib.text.Text at 0x10c8aea90>"
      ]
     },
     "execution_count": 21,
     "metadata": {},
     "output_type": "execute_result"
    },
    {
     "data": {
      "text/plain": [
       "<matplotlib.axes._subplots.AxesSubplot at 0x10cc1fba8>"
      ]
     },
     "execution_count": 21,
     "metadata": {},
     "output_type": "execute_result"
    },
    {
     "data": {
      "text/plain": [
       "<matplotlib.text.Text at 0x10c8df400>"
      ]
     },
     "execution_count": 21,
     "metadata": {},
     "output_type": "execute_result"
    },
    {
     "data": {
      "text/plain": [
       "<matplotlib.text.Text at 0x10d1b6748>"
      ]
     },
     "execution_count": 21,
     "metadata": {},
     "output_type": "execute_result"
    },
    {
     "data": {
      "image/png": "[encoded data removed]",
      "text/plain": [
       "<matplotlib.figure.Figure at 0x10d19d908>"
      ]
     },
     "metadata": {},
     "output_type": "display_data"
    }
   ],
   "source": [
    "fig, axes = plt.subplots(ncols=3, figsize=(12, 4), sharex=True, sharey=True)\n",
    "responses['no_bulge_frac'].hist(ax=axes[0])\n",
    "axes[0].set_xlabel('no bulge vote fraction')\n",
    "responses['obvious_frac'].hist(ax=axes[1])\n",
    "axes[1].set_xlabel('obvious bulge vote fraction')\n",
    "responses['dominant_frac'].hist(ax=axes[2])\n",
    "axes[2].set_xlabel('dominant bulge vote fraction')\n",
    "axes[0].set_ylabel('num of galaxies')\n",
    "fig.tight_layout()"
   ]
  },
  {
   "cell_type": "code",
   "execution_count": 29,
   "metadata": {
    "collapsed": true
   },
   "outputs": [],
   "source": [
    "def compare_remaining_votes(df, col_baseline, col_a, col_b, ax):\n",
    "    \n",
    "    color={\n",
    "        'count_if_no_bulge': 'b',\n",
    "        'count_if_obvious': 'r', \n",
    "        'count_if_dominant': 'g'\n",
    "    }\n",
    "    vote_frac_bins = np.linspace(start=0, stop=30, num=30)\n",
    "    mean_col_a = []\n",
    "    mean_col_b = []\n",
    "    df['bin_index'] = np.digitize(df[col_baseline], bins=vote_frac_bins)\n",
    "    for bin_index in range(len(vote_frac_bins)):\n",
    "        selected = df[df['bin_index'] == bin_index]\n",
    "        mean_col_a.append(selected[col_a].mean())\n",
    "        mean_col_b.append(selected[col_b].mean())\n",
    "    ax.plot(vote_frac_bins, mean_col_a, color[col_a])\n",
    "    ax.plot(vote_frac_bins, mean_col_b, color[col_b])\n",
    "    ax.set_xlabel('{} votes'.format(col_baseline.replace('count_if_', '')))\n",
    "    ax.set_ylabel('other votes')\n",
    "    ax.legend([col_a.replace('count_if_', ''), col_b.replace('count_if_', '')])"
   ]
  },
  {
   "cell_type": "code",
   "execution_count": 100,
   "metadata": {},
   "outputs": [
    {
     "name": "stderr",
     "output_type": "stream",
     "text": [
      "/data/anaconda3/lib/python3.6/site-packages/ipykernel_launcher.py:11: SettingWithCopyWarning: \n",
      "A value is trying to be set on a copy of a slice from a DataFrame.\n",
      "Try using .loc[row_indexer,col_indexer] = value instead\n",
      "\n",
      "See the caveats in the documentation: http://pandas.pydata.org/pandas-docs/stable/indexing.html#indexing-view-versus-copy\n",
      "  # This is added back by InteractiveShellApp.init_path()\n",
      "/data/anaconda3/lib/python3.6/site-packages/numpy/core/fromnumeric.py:2909: RuntimeWarning: Mean of empty slice.\n",
      "  out=out, **kwargs)\n"
     ]
    },
    {
     "data": {
      "image/png": "[encoded data removed]",
      "text/plain": [
       "<matplotlib.figure.Figure at 0x11419d828>"
      ]
     },
     "metadata": {},
     "output_type": "display_data"
    }
   ],
   "source": [
    "import seaborn as sns\n",
    "sns.set_context('talk')\n",
    "fig, axes = plt.subplots(ncols=3, figsize=(14, 4))\n",
    "compare_remaining_votes(responses, 'count_if_no_bulge', 'count_if_obvious', 'count_if_dominant', axes[0])\n",
    "compare_remaining_votes(responses, 'count_if_obvious', 'count_if_no_bulge', 'count_if_dominant', axes[1])\n",
    "compare_remaining_votes(responses, 'count_if_dominant', 'count_if_no_bulge', 'count_if_obvious', axes[2])\n",
    "fig.tight_layout()"
   ]
  },
  {
   "cell_type": "code",
   "execution_count": 103,
   "metadata": {},
   "outputs": [],
   "source": [
    "def compare_remaining_fractions(df, col_baseline, col_a, col_b, ax):\n",
    "    \n",
    "    # define line colors for plot\n",
    "    color={\n",
    "        'count_if_no_bulge': 'b',\n",
    "        'count_if_obvious': 'r', \n",
    "        'count_if_dominant': 'g'\n",
    "    }\n",
    "    \n",
    "    # 20 vote fraction bins from 0 to 1\n",
    "    vote_frac_bins = np.linspace(start=0., stop=.8, num=20)\n",
    "    baseline_vote_fraction = df[col_baseline] / (df[col_baseline] + df[col_a] + df[col_b])\n",
    "\n",
    "    # for every row, work out which vote fraction bin it should be in\n",
    "    bin_indices = np.digitize(baseline_vote_fraction, bins=vote_frac_bins)\n",
    "    bin_indices = bin_indices - 1 # should be bin 0 through bin 19, not bin 1 through 20\n",
    "\n",
    "    mean_col_a_votes = np.zeros_like(vote_frac_bins)\n",
    "    mean_col_b_votes = np.zeros_like(vote_frac_bins)\n",
    "    # for all the rows in each vote fraction bin, what's the mean number of votes?\n",
    "    for bin_index in range(20):\n",
    "        selected = df[bin_indices == bin_index]  # values with that baseline vote fraction\n",
    "        mean_col_a_votes[bin_index] = selected[col_a].mean() # mean num. of votes for col_a\n",
    "        mean_col_b_votes[bin_index] = selected[col_b].mean() # mean num. of votes for col b\n",
    "\n",
    "    total_other_votes = mean_col_a_votes + mean_col_b_votes\n",
    "    ax.plot(vote_frac_bins, mean_col_a_votes/total_other_votes, color[col_a])\n",
    "    ax.plot(vote_frac_bins, mean_col_b_votes/total_other_votes, color[col_b])\n",
    "    ax.set_xlabel('{} vote fraction'.format(col_baseline.replace('count_if_', '')))\n",
    "    ax.set_ylabel('fraction of other votes')\n",
    "    ax.legend([col_a.replace('count_if_', ''), col_b.replace('count_if_', '')])"
   ]
  },
  {
   "cell_type": "code",
   "execution_count": 104,
   "metadata": {},
   "outputs": [
    {
     "data": {
      "image/png": "[encoded data removed]",
      "text/plain": [
       "<matplotlib.figure.Figure at 0x10e6d0908>"
      ]
     },
     "metadata": {},
     "output_type": "display_data"
    }
   ],
   "source": [
    "import seaborn as sns\n",
    "sns.set_context('talk')\n",
    "fig, axes = plt.subplots(ncols=3, figsize=(14, 4))\n",
    "compare_remaining_fractions(responses, 'count_if_no_bulge', 'count_if_obvious', 'count_if_dominant', axes[0])\n",
    "compare_remaining_fractions(responses, 'count_if_obvious', 'count_if_no_bulge', 'count_if_dominant', axes[1])\n",
    "compare_remaining_fractions(responses, 'count_if_dominant', 'count_if_no_bulge', 'count_if_obvious', axes[2])\n",
    "fig.tight_layout()"
   ]
  },
  {
   "cell_type": "code",
   "execution_count": null,
   "metadata": {},
   "outputs": [],
   "source": [
    "fig, axes = plt.subplots(ncols=3, figsize=(12, 4), sharex=True)\n",
    "_ = axes[0].hist2d(responses['no_bulge_frac'], responses['obvious_frac'])\n",
    "_ = axes[1].hist2d(responses['no_bulge_frac'], responses['dominant_frac'])\n",
    "_ = axes[2].hist2d(responses['obvious_frac'], responses['dominant_frac'])"
   ]
  },
  {
   "cell_type": "code",
   "execution_count": null,
   "metadata": {
    "collapsed": true
   },
   "outputs": [],
   "source": []
  }
 ],
 "metadata": {
  "kernelspec": {
   "display_name": "Python 3",
   "language": "python",
   "name": "python3"
  },
  "language_info": {
   "codemirror_mode": {
    "name": "ipython",
    "version": 3
   },
   "file_extension": ".py",
   "mimetype": "text/x-python",
   "name": "python",
   "nbconvert_exporter": "python",
   "pygments_lexer": "ipython3",
   "version": "3.6.4"
  }
 },
 "nbformat": 4,
 "nbformat_minor": 2
}
